{
 "cells": [
  {
   "cell_type": "code",
   "execution_count": 2,
   "id": "d0668e09",
   "metadata": {},
   "outputs": [],
   "source": [
    "import requests\n",
    "from bs4 import BeautifulSoup"
   ]
  },
  {
   "cell_type": "code",
   "execution_count": 4,
   "id": "dbccf51b",
   "metadata": {},
   "outputs": [],
   "source": [
    "# ウェブページから企業情報を取得\n",
    "url = 'https://www.cbinsights.com/research-unicorn-companies'\n",
    "response = requests.get(url)\n",
    "soup = BeautifulSoup(response.text, 'html.parser')"
   ]
  },
  {
   "cell_type": "code",
   "execution_count": 6,
   "id": "f15fbacd",
   "metadata": {},
   "outputs": [
    {
     "ename": "SyntaxError",
     "evalue": "invalid syntax (2913376635.py, line 5)",
     "output_type": "error",
     "traceback": [
      "\u001b[0;36m  Input \u001b[0;32mIn [6]\u001b[0;36m\u001b[0m\n\u001b[0;31m    ceo_name = company.find('p', class='ceo').text\u001b[0m\n\u001b[0m                                 ^\u001b[0m\n\u001b[0;31mSyntaxError\u001b[0m\u001b[0;31m:\u001b[0m invalid syntax\n"
     ]
    }
   ],
   "source": [
    "# 企業情報を抽出し、条件を満たすものをリストアップ\n",
    "companies = []\n",
    "for company in soup.find_all('div', class_='company-info'):\n",
    "    company_name = company.find('h2').text\n",
    "    ceo_name = company.find('p', class='ceo').text\n",
    "    revenue = company.find('p', class='revenue').text\n",
    "\n",
    "    # ここで条件を設定し、条件を満たす企業を選別\n",
    "    if 'Billion' in revenue:\n",
    "        companies.append({'Company': company_name, 'CEO': ceo_name, 'Revenue': revenue})\n"
   ]
  },
  {
   "cell_type": "code",
   "execution_count": 7,
   "id": "aed79a36",
   "metadata": {},
   "outputs": [
    {
     "ename": "NameError",
     "evalue": "name 'companies' is not defined",
     "output_type": "error",
     "traceback": [
      "\u001b[0;31m---------------------------------------------------------------------------\u001b[0m",
      "\u001b[0;31mNameError\u001b[0m                                 Traceback (most recent call last)",
      "Input \u001b[0;32mIn [7]\u001b[0m, in \u001b[0;36m<cell line: 2>\u001b[0;34m()\u001b[0m\n\u001b[1;32m      1\u001b[0m \u001b[38;5;66;03m# 結果を表示\u001b[39;00m\n\u001b[0;32m----> 2\u001b[0m \u001b[38;5;28;01mfor\u001b[39;00m company \u001b[38;5;129;01min\u001b[39;00m \u001b[43mcompanies\u001b[49m:\n\u001b[1;32m      3\u001b[0m     \u001b[38;5;28mprint\u001b[39m(\u001b[38;5;124mf\u001b[39m\u001b[38;5;124m\"\u001b[39m\u001b[38;5;124mCompany: \u001b[39m\u001b[38;5;132;01m{\u001b[39;00mcompany[\u001b[38;5;124m'\u001b[39m\u001b[38;5;124mCompany\u001b[39m\u001b[38;5;124m'\u001b[39m]\u001b[38;5;132;01m}\u001b[39;00m\u001b[38;5;124m\"\u001b[39m)\n\u001b[1;32m      4\u001b[0m     \u001b[38;5;28mprint\u001b[39m(\u001b[38;5;124mf\u001b[39m\u001b[38;5;124m\"\u001b[39m\u001b[38;5;124mCEO: \u001b[39m\u001b[38;5;132;01m{\u001b[39;00mcompany[\u001b[38;5;124m'\u001b[39m\u001b[38;5;124mCEO\u001b[39m\u001b[38;5;124m'\u001b[39m]\u001b[38;5;132;01m}\u001b[39;00m\u001b[38;5;124m\"\u001b[39m)\n",
      "\u001b[0;31mNameError\u001b[0m: name 'companies' is not defined"
     ]
    }
   ],
   "source": [
    "# 結果を表示\n",
    "for company in companies:\n",
    "    print(f\"Company: {company['Company']}\")\n",
    "    print(f\"CEO: {company['CEO']}\")\n",
    "    print(f\"Revenue: {company['Revenue']}\\n\")"
   ]
  },
  {
   "cell_type": "code",
   "execution_count": null,
   "id": "32df2d89",
   "metadata": {},
   "outputs": [],
   "source": []
  }
 ],
 "metadata": {
  "kernelspec": {
   "display_name": "Python 3 (ipykernel)",
   "language": "python",
   "name": "python3"
  },
  "language_info": {
   "codemirror_mode": {
    "name": "ipython",
    "version": 3
   },
   "file_extension": ".py",
   "mimetype": "text/x-python",
   "name": "python",
   "nbconvert_exporter": "python",
   "pygments_lexer": "ipython3",
   "version": "3.9.12"
  }
 },
 "nbformat": 4,
 "nbformat_minor": 5
}
