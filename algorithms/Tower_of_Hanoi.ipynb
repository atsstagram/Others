{
 "cells": [
  {
   "cell_type": "code",
   "execution_count": 9,
   "id": "9f3c7527",
   "metadata": {},
   "outputs": [
    {
     "name": "stdout",
     "output_type": "stream",
     "text": [
      "[3, 2, 1] [] []\n",
      "上記は最初の状態\n",
      "[3, 2] [1] []\n",
      "上記は 1 回目の操作後の状態\n",
      "[3] [1] [2]\n",
      "上記は 2 回目の操作後の状態\n",
      "[3] [] [2, 1]\n",
      "上記は 3 回目の操作後の状態\n",
      "[] [3] [2, 1]\n",
      "上記は 4 回目の操作後の状態\n",
      "[1] [3] [2]\n",
      "上記は 5 回目の操作後の状態\n",
      "[1] [3, 2] []\n",
      "上記は 6 回目の操作後の状態\n",
      "[] [3, 2, 1] []\n",
      "上記は 7 回目の操作後の状態\n"
     ]
    }
   ],
   "source": [
    "N=3\n",
    "start=list(range(N,0,-1))\n",
    "end=[]\n",
    "tmp=[]\n",
    "i=0  #1\n",
    "def print_hanoi(): #2\n",
    "    print(start,end,tmp)\n",
    "def hanoi(n,start,end,tmp): #3\n",
    "    if n<=0:        return  #4\n",
    "    hanoi(n-1,start,tmp,end)  #5\n",
    "    end.append(start.pop())   #6\n",
    "    print_hanoi()              #7\n",
    "    global i; i+=1             #8\n",
    "    print('上記は',i,'回目の操作後の状態')   #9\n",
    "    hanoi(n-1,tmp,end,start)   #10\n",
    "print_hanoi()                  #11\n",
    "print('上記は最初の状態')       #12\n",
    "hanoi(N,start,end,tmp)         #13"
   ]
  },
  {
   "cell_type": "code",
   "execution_count": 70,
   "id": "83cb4e11",
   "metadata": {},
   "outputs": [],
   "source": [
    "def print_hanoi(): #2\n",
    "    print(A,B,C)\n",
    "    \n",
    "def hanoi(n,A,B,C): #A:start, B:tmp, C:end\n",
    "    if n<=0:\n",
    "        return print(\"再帰中の部分作業を終了\")  #4\n",
    "    #print(\"hanoi_1:\",n-1,A,B,C)\n",
    "    print(\"hanoi_1:\", n-1,\"枚の円盤を\",C,\"を使って\",A,\"から\",B,\"へ今から移動します\")\n",
    "    hanoi(n-1,A,C,B) #Aのn-1枚をBに移動（Cは目指す場所）\n",
    "    print(\"Aの(最後の?)1枚をCに移動\")\n",
    "    C.append(A.pop()) #Aの(最後の?)1枚をCに移動\n",
    "    print_hanoi()              #7\n",
    "    global i\n",
    "    i+=1\n",
    "    print(\"上記は\",i,\"回目の操作後の状態\")\n",
    "    print(\"\")\n",
    "    #print(\"hanoi_2:\",n-1,A,B,C)\n",
    "    print(\"hanoi_2:\", n-1,\"枚の円盤を\",A,\"を使って\",B,\"から\",C,\"へ今から移動します\")\n",
    "    hanoi(n-1,B,A,C)   #10"
   ]
  },
  {
   "cell_type": "code",
   "execution_count": 71,
   "id": "ae389695",
   "metadata": {},
   "outputs": [
    {
     "name": "stdout",
     "output_type": "stream",
     "text": [
      "[3, 2, 1] [] []\n",
      "上記は最初の状態\n",
      "hanoi_1: 2 枚の円盤を [] を使って [3, 2, 1] から [] へ今から移動します\n",
      "hanoi_1: 1 枚の円盤を [] を使って [3, 2, 1] から [] へ今から移動します\n",
      "hanoi_1: 0 枚の円盤を [] を使って [3, 2, 1] から [] へ今から移動します\n",
      "再帰中の部分作業を終了\n",
      "Aの(最後の?)1枚をCに移動\n",
      "[3, 2] [] [1]\n",
      "上記は 1 回目の操作後の状態\n",
      "\n",
      "hanoi_2: 0 枚の円盤を [3, 2] を使って [] から [1] へ今から移動します\n",
      "再帰中の部分作業を終了\n",
      "Aの(最後の?)1枚をCに移動\n",
      "[3] [2] [1]\n",
      "上記は 2 回目の操作後の状態\n",
      "\n",
      "hanoi_2: 1 枚の円盤を [3] を使って [1] から [2] へ今から移動します\n",
      "hanoi_1: 0 枚の円盤を [2] を使って [1] から [3] へ今から移動します\n",
      "再帰中の部分作業を終了\n",
      "Aの(最後の?)1枚をCに移動\n",
      "[3] [2, 1] []\n",
      "上記は 3 回目の操作後の状態\n",
      "\n",
      "hanoi_2: 0 枚の円盤を [] を使って [3] から [2, 1] へ今から移動します\n",
      "再帰中の部分作業を終了\n",
      "Aの(最後の?)1枚をCに移動\n",
      "[] [2, 1] [3]\n",
      "上記は 4 回目の操作後の状態\n",
      "\n",
      "hanoi_2: 2 枚の円盤を [] を使って [2, 1] から [3] へ今から移動します\n",
      "hanoi_1: 1 枚の円盤を [3] を使って [2, 1] から [] へ今から移動します\n",
      "hanoi_1: 0 枚の円盤を [] を使って [2, 1] から [3] へ今から移動します\n",
      "再帰中の部分作業を終了\n",
      "Aの(最後の?)1枚をCに移動\n",
      "[1] [2] [3]\n",
      "上記は 5 回目の操作後の状態\n",
      "\n",
      "hanoi_2: 0 枚の円盤を [2] を使って [3] から [1] へ今から移動します\n",
      "再帰中の部分作業を終了\n",
      "Aの(最後の?)1枚をCに移動\n",
      "[1] [] [3, 2]\n",
      "上記は 6 回目の操作後の状態\n",
      "\n",
      "hanoi_2: 1 枚の円盤を [] を使って [1] から [3, 2] へ今から移動します\n",
      "hanoi_1: 0 枚の円盤を [3, 2] を使って [1] から [] へ今から移動します\n",
      "再帰中の部分作業を終了\n",
      "Aの(最後の?)1枚をCに移動\n",
      "[] [] [3, 2, 1]\n",
      "上記は 7 回目の操作後の状態\n",
      "\n",
      "hanoi_2: 0 枚の円盤を [] を使って [] から [3, 2, 1] へ今から移動します\n",
      "再帰中の部分作業を終了\n"
     ]
    }
   ],
   "source": [
    "N=3\n",
    "A=list(range(N,0,-1))\n",
    "#print(A)\n",
    "B=[]\n",
    "C=[]\n",
    "i=0  #1\n",
    "\n",
    "print_hanoi()                  #11\n",
    "print(\"上記は最初の状態\")       #12\n",
    "hanoi(N,A,B,C)         #13"
   ]
  },
  {
   "cell_type": "code",
   "execution_count": 62,
   "id": "cee2e9ff",
   "metadata": {},
   "outputs": [],
   "source": [
    "def print_hanoi():\n",
    "    print(A,B,C)\n",
    "\n",
    "def hanoi(n,start,tmp,end): #3\n",
    "    if n<=0:\n",
    "        return 0\n",
    "    hanoi(n-1,start,end,tmp)  #5\n",
    "    end.append(start.pop())   #6\n",
    "    print_hanoi()              #7\n",
    "    global i; i+=1             #8\n",
    "    print('上記は',i,'回目の操作後の状態')   #9\n",
    "    hanoi(n-1,tmp,start,end)   #10  "
   ]
  },
  {
   "cell_type": "code",
   "execution_count": 63,
   "id": "e1f623a1",
   "metadata": {},
   "outputs": [
    {
     "name": "stdout",
     "output_type": "stream",
     "text": [
      "[3, 2, 1] [] []\n",
      "上記は最初の状態\n",
      "[3, 2] [] [1]\n",
      "上記は 1 回目の操作後の状態\n",
      "[3] [2] [1]\n",
      "上記は 2 回目の操作後の状態\n",
      "[3] [2, 1] []\n",
      "上記は 3 回目の操作後の状態\n",
      "[] [2, 1] [3]\n",
      "上記は 4 回目の操作後の状態\n",
      "[1] [2] [3]\n",
      "上記は 5 回目の操作後の状態\n",
      "[1] [] [3, 2]\n",
      "上記は 6 回目の操作後の状態\n",
      "[] [] [3, 2, 1]\n",
      "上記は 7 回目の操作後の状態\n"
     ]
    }
   ],
   "source": [
    "N=3\n",
    "start=list(range(N,0,-1))\n",
    "tmp=[]\n",
    "end=[]\n",
    "i=0  #1\n",
    "\n",
    "A=start\n",
    "B=tmp\n",
    "C=end\n",
    "\n",
    "print_hanoi()                  #11\n",
    "print('上記は最初の状態')       #12\n",
    "hanoi(N,A,B,C)  "
   ]
  },
  {
   "cell_type": "code",
   "execution_count": null,
   "id": "af088e27",
   "metadata": {},
   "outputs": [],
   "source": []
  }
 ],
 "metadata": {
  "kernelspec": {
   "display_name": "Python 3 (ipykernel)",
   "language": "python",
   "name": "python3"
  },
  "language_info": {
   "codemirror_mode": {
    "name": "ipython",
    "version": 3
   },
   "file_extension": ".py",
   "mimetype": "text/x-python",
   "name": "python",
   "nbconvert_exporter": "python",
   "pygments_lexer": "ipython3",
   "version": "3.9.12"
  }
 },
 "nbformat": 4,
 "nbformat_minor": 5
}
