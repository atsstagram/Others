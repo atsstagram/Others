{
 "cells": [
  {
   "cell_type": "code",
   "execution_count": 89,
   "id": "60761c03",
   "metadata": {},
   "outputs": [],
   "source": [
    "#import sys\n",
    "import numpy as np"
   ]
  },
  {
   "cell_type": "code",
   "execution_count": 114,
   "id": "d20e8299",
   "metadata": {},
   "outputs": [],
   "source": [
    "x1=np.arange(10)\n",
    "x2=[1,2,4,5]\n",
    "x3=[4,3,2,1]"
   ]
  },
  {
   "cell_type": "code",
   "execution_count": 115,
   "id": "f9b59b95",
   "metadata": {},
   "outputs": [],
   "source": [
    "#二分探索（再帰）"
   ]
  },
  {
   "cell_type": "code",
   "execution_count": 125,
   "id": "09c31b07",
   "metadata": {},
   "outputs": [],
   "source": [
    "def binary_search_recursive(List,Target):\n",
    "    if len(List)==0:\n",
    "        return print(\"探索失敗\")\n",
    "    lo=0\n",
    "    hi=len(List)-1\n",
    "    mid=(lo+hi)//2\n",
    "    print(\"List(mid)=\",List[mid], List[lo:hi+1])\n",
    "    if(Target==List[mid]):\n",
    "        print(\"探索成功\")\n",
    "    elif(Target<List[mid]):\n",
    "        binary_search_recursive(List[lo:mid],Target)\n",
    "    else:\n",
    "        binary_search_recursive(List[mid+1:hi+1],Target)"
   ]
  },
  {
   "cell_type": "code",
   "execution_count": 126,
   "id": "2cfd2c29",
   "metadata": {},
   "outputs": [
    {
     "name": "stdout",
     "output_type": "stream",
     "text": [
      "List(mid)= 4 [0 1 2 3 4 5 6 7 8 9]\n",
      "List(mid)= 7 [5 6 7 8 9]\n",
      "List(mid)= 8 [8 9]\n",
      "探索成功\n"
     ]
    }
   ],
   "source": [
    "binary_search_recursive(x1,8)"
   ]
  },
  {
   "cell_type": "code",
   "execution_count": 127,
   "id": "8e207535",
   "metadata": {},
   "outputs": [
    {
     "name": "stdout",
     "output_type": "stream",
     "text": [
      "List(mid)= 4 [0 1 2 3 4 5 6 7 8 9]\n",
      "List(mid)= 7 [5 6 7 8 9]\n",
      "List(mid)= 8 [8 9]\n",
      "List(mid)= 9 [9]\n",
      "探索失敗\n"
     ]
    }
   ],
   "source": [
    "binary_search_recursive(x1,11)"
   ]
  },
  {
   "cell_type": "code",
   "execution_count": 128,
   "id": "b768a4b6",
   "metadata": {},
   "outputs": [
    {
     "name": "stdout",
     "output_type": "stream",
     "text": [
      "List(mid)= 2 [1, 2, 4, 5]\n",
      "List(mid)= 4 [4, 5]\n",
      "探索失敗\n"
     ]
    }
   ],
   "source": [
    "binary_search_recursive(x2,3)"
   ]
  },
  {
   "cell_type": "code",
   "execution_count": 129,
   "id": "1587b594",
   "metadata": {},
   "outputs": [
    {
     "name": "stdout",
     "output_type": "stream",
     "text": [
      "List(mid)= 3 [4, 3, 2, 1]\n",
      "List(mid)= 2 [2, 1]\n",
      "List(mid)= 1 [1]\n",
      "探索失敗\n"
     ]
    }
   ],
   "source": [
    "binary_search_recursive(x3,4)"
   ]
  },
  {
   "cell_type": "code",
   "execution_count": 130,
   "id": "eecd7a7f",
   "metadata": {},
   "outputs": [],
   "source": [
    "#二分探索（非再帰）"
   ]
  },
  {
   "cell_type": "code",
   "execution_count": 143,
   "id": "d743b0e6",
   "metadata": {},
   "outputs": [],
   "source": [
    "def binary_search_non_recursive(List, Target):\n",
    "    lo=0\n",
    "    hi=len(List)-1\n",
    "    mid=(lo+hi)//2 #小数点以下切り捨て\n",
    "    while(Target!=List[mid] and lo<hi):\n",
    "        print(\"List(mid)=\",List[mid], List[lo:hi+1])\n",
    "        if(Target<List[mid]):\n",
    "            hi=mid-1\n",
    "        else:\n",
    "            lo=mid+1\n",
    "        mid=(lo+hi)//2\n",
    "    if(Target==List[mid]):\n",
    "        print(\"探索成功\")\n",
    "    else:\n",
    "        return print(\"探索失敗\")"
   ]
  },
  {
   "cell_type": "code",
   "execution_count": 144,
   "id": "7f210e71",
   "metadata": {},
   "outputs": [
    {
     "name": "stdout",
     "output_type": "stream",
     "text": [
      "List(mid)= 4 [0 1 2 3 4 5 6 7 8 9]\n",
      "List(mid)= 7 [5 6 7 8 9]\n",
      "探索成功\n"
     ]
    }
   ],
   "source": [
    "binary_search_non_recursive(x1,8)"
   ]
  },
  {
   "cell_type": "code",
   "execution_count": 145,
   "id": "1befec0d",
   "metadata": {},
   "outputs": [
    {
     "name": "stdout",
     "output_type": "stream",
     "text": [
      "List(mid)= 4 [0 1 2 3 4 5 6 7 8 9]\n",
      "List(mid)= 7 [5 6 7 8 9]\n",
      "List(mid)= 8 [8 9]\n",
      "探索失敗\n"
     ]
    }
   ],
   "source": [
    "binary_search_non_recursive(x1,11)"
   ]
  },
  {
   "cell_type": "code",
   "execution_count": 146,
   "id": "cdba15d3",
   "metadata": {},
   "outputs": [
    {
     "name": "stdout",
     "output_type": "stream",
     "text": [
      "List(mid)= 2 [1, 2, 4, 5]\n",
      "List(mid)= 4 [4, 5]\n",
      "探索失敗\n"
     ]
    }
   ],
   "source": [
    "binary_search_non_recursive(x2,3)"
   ]
  },
  {
   "cell_type": "code",
   "execution_count": null,
   "id": "e0374a1e",
   "metadata": {},
   "outputs": [],
   "source": []
  }
 ],
 "metadata": {
  "kernelspec": {
   "display_name": "Python 3 (ipykernel)",
   "language": "python",
   "name": "python3"
  },
  "language_info": {
   "codemirror_mode": {
    "name": "ipython",
    "version": 3
   },
   "file_extension": ".py",
   "mimetype": "text/x-python",
   "name": "python",
   "nbconvert_exporter": "python",
   "pygments_lexer": "ipython3",
   "version": "3.9.12"
  }
 },
 "nbformat": 4,
 "nbformat_minor": 5
}
