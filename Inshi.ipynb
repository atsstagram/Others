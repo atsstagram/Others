{
 "cells": [
  {
   "cell_type": "code",
   "execution_count": 18,
   "id": "b5f641cd",
   "metadata": {},
   "outputs": [],
   "source": [
    "def Inshi(PASS):\n",
    "    n=1\n",
    "    k=1\n",
    "    if (PASS):\n",
    "        return n+k\n",
    "    else:\n",
    "        return n+k+1"
   ]
  },
  {
   "cell_type": "code",
   "execution_count": 19,
   "id": "eccf9439",
   "metadata": {},
   "outputs": [
    {
     "data": {
      "text/plain": [
       "2"
      ]
     },
     "execution_count": 19,
     "metadata": {},
     "output_type": "execute_result"
    }
   ],
   "source": [
    "Inshi(True)"
   ]
  },
  {
   "cell_type": "code",
   "execution_count": 20,
   "id": "aa9f4342",
   "metadata": {},
   "outputs": [
    {
     "data": {
      "text/plain": [
       "3"
      ]
     },
     "execution_count": 20,
     "metadata": {},
     "output_type": "execute_result"
    }
   ],
   "source": [
    "Inshi(False)"
   ]
  },
  {
   "cell_type": "code",
   "execution_count": null,
   "id": "019dda14",
   "metadata": {},
   "outputs": [],
   "source": []
  }
 ],
 "metadata": {
  "kernelspec": {
   "display_name": "Python 3 (ipykernel)",
   "language": "python",
   "name": "python3"
  },
  "language_info": {
   "codemirror_mode": {
    "name": "ipython",
    "version": 3
   },
   "file_extension": ".py",
   "mimetype": "text/x-python",
   "name": "python",
   "nbconvert_exporter": "python",
   "pygments_lexer": "ipython3",
   "version": "3.9.12"
  }
 },
 "nbformat": 4,
 "nbformat_minor": 5
}
