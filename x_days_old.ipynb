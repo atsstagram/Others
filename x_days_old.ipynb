{
 "cells": [
  {
   "cell_type": "markdown",
   "id": "1d54a65a",
   "metadata": {},
   "source": [
    "# ChatGPTにPythonコード作らせてみた\n",
    "input: 生年月日  \n",
    "output: 曜日, 生まれてから何日経ったか"
   ]
  },
  {
   "cell_type": "markdown",
   "id": "396f125a",
   "metadata": {},
   "source": [
    "## Prompt\n",
    "生年月日を入力すると  \n",
    "・生まれた曜日  \n",
    "・生まれた日を1日目として今日は何日目か  \n",
    "を出力するプログラムをPythonのコードで提示してください。"
   ]
  },
  {
   "cell_type": "markdown",
   "id": "3d371c25",
   "metadata": {},
   "source": [
    "## Response\n",
    "以下は、Pythonで生年月日から生まれた曜日と生まれた日から今日までの日数を計算するプログラムの例です。"
   ]
  },
  {
   "cell_type": "code",
   "execution_count": 2,
   "id": "d780d79c",
   "metadata": {},
   "outputs": [
    {
     "name": "stdout",
     "output_type": "stream",
     "text": [
      "生年月日を入力してください（例: yyyy/mm/dd）: 1999/08/29\n",
      "生まれた曜日: Sunday\n",
      "生まれてからの日数: 8720\n"
     ]
    }
   ],
   "source": [
    "import datetime\n",
    "\n",
    "def calculate_birth_info(birthdate):\n",
    "    # 生年月日を年、月、日に分割\n",
    "    year, month, day = map(int, birthdate.split('/'))\n",
    "\n",
    "    # 生まれた曜日を計算\n",
    "    birth_date = datetime.date(year, month, day)\n",
    "    birth_weekday = birth_date.strftime('%A')\n",
    "\n",
    "    # 今日の日付を取得\n",
    "    today = datetime.date.today()\n",
    "\n",
    "    # 生まれた日から今日までの日数を計算\n",
    "    days_since_birth = (today - birth_date).days + 1\n",
    "\n",
    "    return birth_weekday, days_since_birth\n",
    "\n",
    "# 生年月日を入力\n",
    "birthdate = input(\"生年月日を入力してください（例: yyyy/mm/dd）: \")\n",
    "\n",
    "# 生まれた曜日と日数を計算\n",
    "weekday, days_since_birth = calculate_birth_info(birthdate)\n",
    "\n",
    "# 結果を出力\n",
    "print(\"生まれた曜日:\", weekday)\n",
    "print(\"生まれてからの日数:\", days_since_birth)\n"
   ]
  },
  {
   "cell_type": "markdown",
   "id": "06e597ba",
   "metadata": {},
   "source": [
    "このプログラムでは、datetimeモジュールを使用して生年月日から生まれた曜日と日数を計算しています。calculate_birth_info関数は、生年月日を受け取り、datetime.dateオブジェクトを作成して生まれた曜日を計算し、生まれた日から今日までの日数を計算します。結果はprint文を使用して表示されます。  \n",
    "  \n",
    "注意: このプログラムでは、入力される生年月日の形式が正しいことを前提としています。適切な形式で入力するようにしてください（例: yyyy/mm/dd）。"
   ]
  },
  {
   "cell_type": "markdown",
   "id": "492dab24",
   "metadata": {},
   "source": [
    "## Prompt\n",
    "上記のプログラムを、ライブラリdatetimeを用いずに構築できますか"
   ]
  },
  {
   "cell_type": "markdown",
   "id": "52f9a96d",
   "metadata": {},
   "source": [
    "## Response\n",
    "はい、ライブラリdatetimeを使用せずに、生まれた曜日と日数を計算するプログラムを構築することも可能です。以下は、ライブラリを使用せずに生まれた曜日と日数を計算するプログラムの例です。"
   ]
  },
  {
   "cell_type": "code",
   "execution_count": 3,
   "id": "84ac2c8d",
   "metadata": {},
   "outputs": [
    {
     "name": "stdout",
     "output_type": "stream",
     "text": [
      "生年月日を入力してください（例: yyyy/mm/dd）: 1999/08/29\n",
      "今日の日付を入力してください（例: yyyy/mm/dd）: 2023/07/13\n",
      "生まれた曜日: 日\n",
      "生まれてからの日数: 239885\n"
     ]
    }
   ],
   "source": [
    "def calculate_birth_info(birthdate):\n",
    "    # 生年月日を年、月、日に分割\n",
    "    year, month, day = map(int, birthdate.split('/'))\n",
    "\n",
    "    # 月のオフセット値を設定\n",
    "    month_offset = [0, 3, 3, 6, 1, 4, 6, 2, 5, 0, 3, 5]\n",
    "\n",
    "    # うるう年の補正値を設定\n",
    "    leap_year_correction = 0\n",
    "    if year % 4 == 0 and (year % 100 != 0 or year % 400 == 0):\n",
    "        if month <= 2:\n",
    "            leap_year_correction = -1\n",
    "\n",
    "    # 生まれた曜日を計算\n",
    "    day_of_week = (year - 1) % 7\n",
    "    day_of_week = (day_of_week + (year - 1) // 4 - (year - 1) // 100 + (year - 1) // 400 + sum(month_offset[:month - 1]) + day + leap_year_correction) % 7\n",
    "\n",
    "    # 今日の日付を取得\n",
    "    today = [int(d) for d in str(input(\"今日の日付を入力してください（例: yyyy/mm/dd）: \")).split('/')]\n",
    "\n",
    "    # 生まれた日から今日までの日数を計算\n",
    "    birth_date = year * 10000 + month * 100 + day\n",
    "    today_date = today[0] * 10000 + today[1] * 100 + today[2]\n",
    "    days_since_birth = today_date - birth_date + 1\n",
    "\n",
    "    return day_of_week, days_since_birth\n",
    "\n",
    "# 生年月日を入力\n",
    "birthdate = input(\"生年月日を入力してください（例: yyyy/mm/dd）: \")\n",
    "\n",
    "# 生まれた曜日と日数を計算\n",
    "weekday, days_since_birth = calculate_birth_info(birthdate)\n",
    "\n",
    "# 曜日のリスト\n",
    "weekdays = ['日', '月', '火', '水', '木', '金', '土']\n",
    "\n",
    "# 結果を出力\n",
    "print(\"生まれた曜日:\", weekdays[weekday])\n",
    "print(\"生まれてからの日数:\", days_since_birth)\n"
   ]
  },
  {
   "cell_type": "markdown",
   "id": "c1584d23",
   "metadata": {},
   "source": [
    "このプログラムでは、うるう年の補正や月のオフセット値などを考慮して、生まれた曜日を計算しています。また、生まれた日から今日までの日数も計算しています。todayの入力は yyyy/mm/dd の形式で行ってください。  \n",
    "  \n",
    "ただし、ライブラリdatetimeを使用する方がより簡潔で効率的な方法です。上記のコードは、datetimeを使用しない代替手法として提供されていますが、一部の条件や計算の複雑さが増しているため、注意が必要です。"
   ]
  },
  {
   "cell_type": "markdown",
   "id": "137ac1a9",
   "metadata": {},
   "source": [
    "*datetime使ってない方は間違ってる"
   ]
  }
 ],
 "metadata": {
  "kernelspec": {
   "display_name": "Python 3 (ipykernel)",
   "language": "python",
   "name": "python3"
  },
  "language_info": {
   "codemirror_mode": {
    "name": "ipython",
    "version": 3
   },
   "file_extension": ".py",
   "mimetype": "text/x-python",
   "name": "python",
   "nbconvert_exporter": "python",
   "pygments_lexer": "ipython3",
   "version": "3.9.12"
  }
 },
 "nbformat": 4,
 "nbformat_minor": 5
}
